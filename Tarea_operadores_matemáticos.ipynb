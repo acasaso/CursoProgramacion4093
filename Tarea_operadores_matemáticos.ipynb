{
  "nbformat": 4,
  "nbformat_minor": 0,
  "metadata": {
    "colab": {
      "provenance": []
    },
    "kernelspec": {
      "name": "python3",
      "display_name": "Python 3"
    },
    "language_info": {
      "name": "python"
    }
  },
  "cells": [
    {
      "cell_type": "markdown",
      "source": [
        "Un vendedor recibe un sueldo base más un 10% extra por\n",
        "comisión de sus ventas, el vendedor desea saber cuánto\n",
        "dinero obtendrá por concepto de comisiones por las tres\n",
        "ventas que realiza en el mes y el total que recibirá en\n",
        "el mes tomando en cuenta su sueldo base y comisiones."
      ],
      "metadata": {
        "id": "aZbjPdWfuztt"
      }
    },
    {
      "cell_type": "code",
      "execution_count": null,
      "metadata": {
        "id": "icAVqXDhuvGY",
        "colab": {
          "base_uri": "https://localhost:8080/"
        },
        "outputId": "60614a76-8975-48df-e1b0-5fb1935e2515"
      },
      "outputs": [
        {
          "output_type": "stream",
          "name": "stdout",
          "text": [
            "Ingrese sueldo base: 10000\n",
            "Ingrese el número de ventas: 3\n",
            "El sueldo total a recibir es: 13000.0\n"
          ]
        }
      ],
      "source": [
        "sueldo_base = int(input(\"Ingrese sueldo base: \"))\n",
        "comision = 0.10\n",
        "ventas = int(input(\"Ingrese el número de ventas: \"))\n",
        "res = sueldo_base + ventas*(comision*sueldo_base)\n",
        "Total = print(f\"El sueldo total a recibir es: {res}\")"
      ]
    },
    {
      "cell_type": "markdown",
      "source": [
        "Una tienda ofrece un descuento del 15% sobre el total\n",
        "de la compra y un cliente desea saber cuánto deberá\n",
        "pagar finalmente por su compra."
      ],
      "metadata": {
        "id": "BGj-Tb3wu2-K"
      }
    },
    {
      "cell_type": "code",
      "source": [
        "compra = int(input(\"Ingrese el valor de la compra: \"))\n",
        "descuento = 0.15\n",
        "Total = compra - (descuento*compra)\n",
        "res = print(f\"El pago final es: {Total}\")"
      ],
      "metadata": {
        "colab": {
          "base_uri": "https://localhost:8080/"
        },
        "id": "pYCDOsI5yCVu",
        "outputId": "c0bd9942-2849-411f-c1b7-30e816061517"
      },
      "execution_count": null,
      "outputs": [
        {
          "output_type": "stream",
          "name": "stdout",
          "text": [
            "Ingrese el valor de la compra: 1000\n",
            "El pago final es: 850.0\n"
          ]
        }
      ]
    },
    {
      "cell_type": "markdown",
      "source": [
        "Un alumno desea saber cuál será su calificación final en\n",
        "la materia de Algoritmos. Dicha calificación se compone\n",
        "de tres exámenes parciales."
      ],
      "metadata": {
        "id": "2gOp_HyXyl8a"
      }
    },
    {
      "cell_type": "code",
      "source": [
        "nota1 = float(input(\"Ingrese la primera nota: \"))\n",
        "nota2 = float(input(\"Ingrese la segunda nota: \"))\n",
        "nota3 = float(input(\"Ingrese la tercera nota: \"))\n",
        "notaf = round((nota1 + nota2 + nota3)/3,2)\n",
        "calificacion_final = print(f\"La calificación final es {notaf}\")"
      ],
      "metadata": {
        "colab": {
          "base_uri": "https://localhost:8080/"
        },
        "id": "sho1ewPuysLp",
        "outputId": "8a995876-324b-41cc-e005-4feb05158d8f"
      },
      "execution_count": null,
      "outputs": [
        {
          "output_type": "stream",
          "name": "stdout",
          "text": [
            "Ingrese la primera nota: 3\n",
            "Ingrese la segunda nota: 5\n",
            "Ingrese la tercera nota: 3.76\n",
            "La calificación final es 3.92\n"
          ]
        }
      ]
    },
    {
      "cell_type": "markdown",
      "source": [
        "Un maestro desea saber qué porcentaje de hombres y que\n",
        "porcentaje de mujeres hay en un grupo de estudiantes.\n"
      ],
      "metadata": {
        "id": "EDqupq7G17uT"
      }
    },
    {
      "cell_type": "code",
      "source": [
        "num_mujeres = int(input(\"Ingrese el número de mujeres: \"))\n",
        "num_hombres = int(input(\"Ingrese el numero de hombres: \"))\n",
        "por_mujeres = (num_mujeres/(num_mujeres+num_hombres))*100\n",
        "por_hombres = (num_hombres/(num_mujeres+num_hombres))*100\n",
        "res = print(f\"El porcentaje de muejeres es {por_mujeres}% y el de hombres {por_hombres}%\")"
      ],
      "metadata": {
        "colab": {
          "base_uri": "https://localhost:8080/"
        },
        "id": "v4dH0cnR2CUQ",
        "outputId": "73fefcd3-851f-47f5-e901-8d631bd6adce"
      },
      "execution_count": null,
      "outputs": [
        {
          "output_type": "stream",
          "name": "stdout",
          "text": [
            "Ingrese el número de mujeres: 15\n",
            "Ingrese el numero de hombres: 10\n",
            "El porcentaje de muejeres es 60.0% y el de hombres 40.0%\n"
          ]
        }
      ]
    }
  ]
}