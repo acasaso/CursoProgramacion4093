{
  "nbformat": 4,
  "nbformat_minor": 0,
  "metadata": {
    "colab": {
      "provenance": []
    },
    "kernelspec": {
      "name": "python3",
      "display_name": "Python 3"
    },
    "language_info": {
      "name": "python"
    }
  },
  "cells": [
    {
      "cell_type": "markdown",
      "source": [
        "**1.** / **5.** Se necesita un sistema que despliega una tabla de\n",
        "multiplicar de un número dado por el usuario. ciclo for\n",
        "\n"
      ],
      "metadata": {
        "id": "1vORJCjPY_FS"
      }
    },
    {
      "cell_type": "code",
      "execution_count": null,
      "metadata": {
        "id": "yBBKpy2FvSWZ",
        "colab": {
          "base_uri": "https://localhost:8080/"
        },
        "outputId": "b08e6d39-d900-455e-ba4b-4db6208f3df5"
      },
      "outputs": [
        {
          "output_type": "stream",
          "name": "stdout",
          "text": [
            "Ingrese un número: 2\n",
            "0 X 2 = 0\n",
            "1 X 2 = 2\n",
            "2 X 2 = 4\n",
            "3 X 2 = 6\n",
            "4 X 2 = 8\n",
            "5 X 2 = 10\n",
            "6 X 2 = 12\n",
            "7 X 2 = 14\n",
            "8 X 2 = 16\n",
            "9 X 2 = 18\n",
            "10 X 2 = 20\n"
          ]
        }
      ],
      "source": [
        "num = int(input(\"Ingrese un número: \"))\n",
        "for i in range(0,11,1):\n",
        "    print(i, \"X\" , num , \"=\", i*num )"
      ]
    },
    {
      "cell_type": "markdown",
      "source": [
        "**2.** Se necesita un sistema que pida un sueldo de un\n",
        "trabajador, si el sueldo es mayor a 655000, no tedrá\n",
        "ninguna bonificación, pero si es menor tiene bonificación\n",
        "del 4%. Al final se desea saber el total del sueldo con\n",
        "o sin bonificación. Preguntar si desea ejecutar de nuevo\n",
        "el programa con el ciclo while."
      ],
      "metadata": {
        "id": "C2Ms-GWYcHUQ"
      }
    },
    {
      "cell_type": "code",
      "source": [
        "resp == \"si\"\n",
        "while resp == \"si\":\n",
        "  sueldo = int(input(\"Ingrese su sueldo: \"))\n",
        "  if sueldo <= 655000:\n",
        "    bon = round(0.4*sueldo,2)\n",
        "    sueldof = bon + sueldo\n",
        "    print(f\"Su bonificación es {bon} y su sueldo final es {sueldof}\")\n",
        "  else:\n",
        "    print(f\"No tiene bonificación y su sueldo final es {sueldo}\")\n",
        "  resp = input(\"¿Desea ejecutar de nuevo el programa? \")"
      ],
      "metadata": {
        "colab": {
          "base_uri": "https://localhost:8080/"
        },
        "id": "Hgeep-4ctvFf",
        "outputId": "9a6ea798-d9cb-4520-8910-482d062d7b2c"
      },
      "execution_count": null,
      "outputs": [
        {
          "name": "stdout",
          "output_type": "stream",
          "text": [
            "Ingrese su sueldo: 5\n",
            "Su bonificación es 2.0 y su sueldo final es 7.0\n",
            "¿Desea ejecutar de nuevo el programa? si\n",
            "Ingrese su sueldo: 85858585\n",
            "No tiene bonificación y su sueldo final es 85858585\n",
            "¿Desea ejecutar de nuevo el programa? si\n",
            "Ingrese su sueldo: 3698\n",
            "Su bonificación es 1479.2 y su sueldo final es 5177.2\n",
            "¿Desea ejecutar de nuevo el programa? n\n"
          ]
        }
      ]
    },
    {
      "cell_type": "markdown",
      "source": [
        "**3.** Un maestro necesita un sistema para capturar las\n",
        "calificaciones de 5 parciales de sus alumnos, después\n",
        "recapturarlas necesita que se despliegue el promedio,\n",
        "cuando ya no quiera capturar más alumnos, necesita que\n",
        "se despliegue el promedio general de todos los alumnos\n",
        "capturados. Preguntar si desea ejecutar de nuevo el\n",
        "programa con el ciclo while."
      ],
      "metadata": {
        "id": "MuHM56c6hp_G"
      }
    },
    {
      "cell_type": "code",
      "source": [
        "resp = \"si\"\n",
        "prom_acu = 0\n",
        "cont = 0\n",
        "while resp == \"si\" or resp == \"s\" or resp == \"SI\" or resp == \"yes\":\n",
        "  cal1 = float(input(\"Digite la calificación 1: \"))\n",
        "  cal2 = float(input(\"Digite la calificación 2: \"))\n",
        "  cal3 = float(input(\"Digite la calificación 3: \"))\n",
        "  cal4 = float(input(\"Digite la calificación 4: \"))\n",
        "  cal5 = float(input(\"Digite la calificación 5: \"))\n",
        "  prom = round((cal1 + cal2 + cal3 + cal4 + cal5)/5, 2)\n",
        "  cont = cont + 1\n",
        "  prom_acu = (prom_acu + prom)/cont  \n",
        "  print(f\"El promedio es= {prom}\")\n",
        "  print(f\"El promedio acumulado es= {prom_acu}\")\n",
        "  resp = input(\"¿Desea cálcular el promedio de otras 5 calificaicones? \")"
      ],
      "metadata": {
        "colab": {
          "base_uri": "https://localhost:8080/"
        },
        "id": "tni_vkZ7hzOO",
        "outputId": "31fc87ef-9a0c-46e5-9842-ec3908100c3e"
      },
      "execution_count": null,
      "outputs": [
        {
          "name": "stdout",
          "output_type": "stream",
          "text": [
            "Digite la calificación 1: 5.\n",
            "Digite la calificación 2: 3.5\n",
            "Digite la calificación 3: 4\n",
            "Digite la calificación 4: 4.3\n",
            "Digite la calificación 5: 2\n",
            "El promedio es= 3.76\n",
            "El promedio acumulado es= 3.76\n",
            "¿Desea cálcular el promedio de otras 5 calificaicones? 3.6\n"
          ]
        }
      ]
    },
    {
      "cell_type": "markdown",
      "source": [
        "**4.** Crear un bucle que cuente todos los números pares hasta\n",
        "el 100 ciclo for"
      ],
      "metadata": {
        "id": "xuHZ7v9-qbnR"
      }
    },
    {
      "cell_type": "code",
      "source": [
        "sum = 0\n",
        "for i in range(0,101,2):\n",
        "  sum = sum + i\n",
        "print(sum)"
      ],
      "metadata": {
        "colab": {
          "base_uri": "https://localhost:8080/"
        },
        "id": "W0UFGlowqiJK",
        "outputId": "994915ae-685e-4fc9-bab5-04d940d99130"
      },
      "execution_count": null,
      "outputs": [
        {
          "output_type": "stream",
          "name": "stdout",
          "text": [
            "2550\n"
          ]
        }
      ]
    },
    {
      "cell_type": "markdown",
      "source": [
        "**6.** Escribir un programa que pregunte al usuario su edad y\n",
        "muestre por pantalla todos los años que ha cumplido\n",
        "(desde 1 hasta su edad). ciclo for"
      ],
      "metadata": {
        "id": "WLUMFX8JsjgL"
      }
    },
    {
      "cell_type": "code",
      "source": [
        "edad = int(input(\"Ingrese su edad: \"))\n",
        "for i in range(1,edad+1,1):\n",
        "  print(\"Número de año\", i)"
      ],
      "metadata": {
        "colab": {
          "base_uri": "https://localhost:8080/"
        },
        "id": "bYAW-TIfs11c",
        "outputId": "f05d4309-ab02-4332-94c2-9b3d50b375cb"
      },
      "execution_count": null,
      "outputs": [
        {
          "output_type": "stream",
          "name": "stdout",
          "text": [
            "Ingrese su edad: 3\n",
            "Número de año 1\n",
            "Número de año 2\n",
            "Número de año 3\n"
          ]
        }
      ]
    }
  ]
}