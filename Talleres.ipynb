{
  "nbformat": 4,
  "nbformat_minor": 0,
  "metadata": {
    "colab": {
      "provenance": []
    },
    "kernelspec": {
      "name": "python3",
      "display_name": "Python 3"
    },
    "language_info": {
      "name": "python"
    }
  },
  "cells": [
    {
      "cell_type": "markdown",
      "source": [
        "# Talleres de clase "
      ],
      "metadata": {
        "id": "Xec4TRs4vt-n"
      }
    },
    {
      "cell_type": "markdown",
      "source": [
        " **Taller 1**"
      ],
      "metadata": {
        "id": "FhW17rptxjMI"
      }
    },
    {
      "cell_type": "code",
      "source": [
        "id = 1018498345\n",
        "print(id)\n",
        "nombres = \"Angelica Maria\"\n",
        "print(nombres)\n",
        "apellidos = \"Casas Oviedo\"\n",
        "print(apellidos)\n",
        "direccion = \"Chapinero\"\n",
        "print(direccion)\n",
        "telefono = 3043983256\n",
        "print(telefono)\n",
        "edad = 56\n",
        "print(edad)\n",
        "estado_civil = \"casada\"\n",
        "print(estado_civil)\n",
        "hijos = 1\n",
        "print(hijos)\n",
        "estatura_cm = 168\n",
        "print(estatura_cm)\n",
        "from datetime import datetime\n",
        "fecha_contrato= datetime(2023,4,21)\n",
        "fecha_contrato = fecha_contrato.strftime('%d/%m/%Y')\n",
        "print(fecha_contrato)\n",
        "sueldo_base = 1800000\n",
        "print(sueldo_base)\n",
        "dias_lab = 22\n",
        "print(dias_lab)"
      ],
      "metadata": {
        "colab": {
          "base_uri": "https://localhost:8080/"
        },
        "id": "KB_DHQdyIT8D",
        "outputId": "46268752-c1c4-49f7-ebb1-e846e514e46b"
      },
      "execution_count": 4,
      "outputs": [
        {
          "output_type": "stream",
          "name": "stdout",
          "text": [
            "1018498345\n",
            "Angelica Maria\n",
            "Casas Oviedo\n",
            "Chapinero\n",
            "3043983256\n",
            "56\n",
            "casada\n",
            "1\n",
            "168\n",
            "21/04/2023\n",
            "1800000\n",
            "22\n"
          ]
        }
      ]
    },
    {
      "cell_type": "markdown",
      "source": [
        "**Taller 2**"
      ],
      "metadata": {
        "id": "OW-7OLjdxl-y"
      }
    },
    {
      "cell_type": "code",
      "source": [
        "if edad > 55:\n",
        "  bono = round(0.5*sueldo_base)\n",
        "  print(f\"El bono de su prepensiónn es {bono}\")\n",
        "else:\n",
        "    print(\"No tiene disponible el bono de su prepensión\")\n",
        "\n",
        "if estado_civil == \"casado\" or \"casada\" and hijos>0:\n",
        "  print(\"Cuenta con un paseo cada diciembre\")\n",
        "else: \n",
        "  print(\"No cuenta con paseo en diciembre\")\n",
        "\n",
        "if sueldo_base>1000000 and sueldo_base<1500000 :\n",
        "  comision = round(0.2*sueldo_base)\n",
        "  print(f\"Su comisión es {comision}\")\n",
        "elif sueldo_base>1500001 and sueldo_base<2000000:\n",
        "  comision = round(0.5*sueldo_base)\n",
        "  print(f\"Su comisión es {comision}\")\n",
        "else: \n",
        "  print(\"No tiene comisión asignada\")\n",
        "\n",
        "if dias_lab>20 and sueldo_base<1000000:\n",
        "  print(\"Tiene derecho a un bono de alimentación\")\n",
        "else:\n",
        "  print(\"No tiene derecho al bono de alimentación\")"
      ],
      "metadata": {
        "colab": {
          "base_uri": "https://localhost:8080/"
        },
        "id": "tqxiKTVCxp7a",
        "outputId": "90d89fe9-5080-4b5d-eb9f-19b2a1e019aa"
      },
      "execution_count": 5,
      "outputs": [
        {
          "output_type": "stream",
          "name": "stdout",
          "text": [
            "El bono de su prepensiónn es 900000\n",
            "Cuenta con un paseo cada diciembre\n",
            "Su comisión es 900000\n",
            "No tiene derecho al bono de alimentación\n"
          ]
        }
      ]
    },
    {
      "cell_type": "markdown",
      "source": [
        "**Taller 3**"
      ],
      "metadata": {
        "id": "lD_qJpSy8KgB"
      }
    },
    {
      "cell_type": "code",
      "source": [
        "def validarbono(bon):\n",
        "  if edad > 55:\n",
        "    bon = round(0.5*sueldo_base)\n",
        "    print(f\"El bono de su prepensiónn es {bon}\")\n",
        "  else:\n",
        "    print(\"No tiene disponible el bono de su prepensión\")\n",
        "resp = \"si\"\n",
        "while resp == \"si\" or resp == \"s\":\n",
        "  bon = float(input(\"Digite su edad: \"))\n",
        "  validarbono(bon)\n",
        "  resp = input(\"¿Desea digitar otra edad? \")\n",
        "\n",
        "def validarestado(estado):\n",
        "  if sueldo_base>1000000 and sueldo_base<1500000 :\n",
        "    comision = round(0.2*sueldo_base)\n",
        "    print(f\"Su comisión es {comision}\")\n",
        "  elif sueldo_base>1500001 and sueldo_base<2000000:\n",
        "    comision = round(0.5*sueldo_base)\n",
        "    print(f\"Su comisión es {comision}\")\n",
        "  else: \n",
        "    print(\"No tiene comisión asignada\")\n",
        "validarestado(estado_civil)\n",
        "\n",
        "def sueldo(sueld):\n",
        "  if sueld>1000000 and sueld<1500000 :\n",
        "    com = round(0.2*sueld)\n",
        "    print(f\"Su comisión es {com}\")\n",
        "  elif sueld>1500001 and sueld<2000000:\n",
        "    com = round(0.5*sueld)\n",
        "    print(f\"Su comisión es {com}\")\n",
        "  else: \n",
        "    print(\"No tiene comisión asignada\")\n",
        "sueldo(sueldo_base)\n",
        "\n",
        "def bonali(diasl):\n",
        "  if diasl>20 and sueldo_base<1000000:\n",
        "    print(\"Tiene derecho a un bono de alimentación\")\n",
        "  else:\n",
        "    print(\"No tiene derecho al bono de alimentación\")\n",
        "bonali(dias_lab)"
      ],
      "metadata": {
        "colab": {
          "base_uri": "https://localhost:8080/"
        },
        "id": "qhp1RL4i8Sf3",
        "outputId": "0313d0ce-c34b-4a30-cdaf-41b7ed17e350"
      },
      "execution_count": 23,
      "outputs": [
        {
          "output_type": "stream",
          "name": "stdout",
          "text": [
            "Digite su edad: 58\n",
            "El bono de su prepensiónn es 900000\n",
            "¿Desea digitar otra edad? n\n",
            "Su comisión es 900000\n",
            "Su comisión es 900000\n",
            "No tiene derecho al bono de alimentación\n"
          ]
        }
      ]
    }
  ]
}